{
 "cells": [
  {
   "cell_type": "markdown",
   "id": "8aaa891a",
   "metadata": {},
   "source": [
    "#### Note:\n",
    "\n",
    "- After getting the data then perform feature engineering\n",
    "- In feature engineering part, handle the missing data and then categorical features. (For different techniques check Kaggle Kernel or Towards data science blogs)\n",
    "- In categorical features we use one-hot encoding(for nominal variables) and label encoding(for ordinal variables)."
   ]
  },
  {
   "cell_type": "code",
   "execution_count": null,
   "id": "93aaed60",
   "metadata": {},
   "outputs": [],
   "source": []
  }
 ],
 "metadata": {
  "kernelspec": {
   "display_name": "Python 3 (ipykernel)",
   "language": "python",
   "name": "python3"
  },
  "language_info": {
   "codemirror_mode": {
    "name": "ipython",
    "version": 3
   },
   "file_extension": ".py",
   "mimetype": "text/x-python",
   "name": "python",
   "nbconvert_exporter": "python",
   "pygments_lexer": "ipython3",
   "version": "3.10.9"
  }
 },
 "nbformat": 4,
 "nbformat_minor": 5
}
