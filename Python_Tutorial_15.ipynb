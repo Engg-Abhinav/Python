{
 "cells": [
  {
   "cell_type": "markdown",
   "id": "565f4215",
   "metadata": {},
   "source": [
    "# OOPS Tutorial in Python"
   ]
  },
  {
   "cell_type": "code",
   "execution_count": 1,
   "id": "c47ce16e",
   "metadata": {},
   "outputs": [],
   "source": [
    "class Car:\n",
    "    pass"
   ]
  },
  {
   "cell_type": "code",
   "execution_count": 4,
   "id": "7ac22636",
   "metadata": {},
   "outputs": [],
   "source": [
    "car1 = Car()\n",
    "\n",
    "# Car() -> Constructor"
   ]
  },
  {
   "cell_type": "code",
   "execution_count": 3,
   "id": "9634f0cf",
   "metadata": {},
   "outputs": [
    {
     "data": {
      "text/plain": [
       "<__main__.Car at 0x22ee7712410>"
      ]
     },
     "execution_count": 3,
     "metadata": {},
     "output_type": "execute_result"
    }
   ],
   "source": [
    "car1"
   ]
  },
  {
   "cell_type": "code",
   "execution_count": 5,
   "id": "9f702745",
   "metadata": {},
   "outputs": [],
   "source": [
    "car1.windows=5\n",
    "car1.doors=4"
   ]
  },
  {
   "cell_type": "code",
   "execution_count": 6,
   "id": "a958a3da",
   "metadata": {},
   "outputs": [
    {
     "name": "stdout",
     "output_type": "stream",
     "text": [
      "5\n"
     ]
    }
   ],
   "source": [
    "print(car1.windows)"
   ]
  },
  {
   "cell_type": "code",
   "execution_count": 7,
   "id": "65f37778",
   "metadata": {},
   "outputs": [],
   "source": [
    "car2 = Car()\n",
    "\n",
    "# Different instance than car1"
   ]
  },
  {
   "cell_type": "code",
   "execution_count": 9,
   "id": "6a5c6c99",
   "metadata": {},
   "outputs": [],
   "source": [
    "car2.windows = 3\n",
    "car2.doors = 2"
   ]
  },
  {
   "cell_type": "code",
   "execution_count": 10,
   "id": "ea59fb7f",
   "metadata": {},
   "outputs": [
    {
     "name": "stdout",
     "output_type": "stream",
     "text": [
      "3\n"
     ]
    }
   ],
   "source": [
    "print(car2.windows)"
   ]
  },
  {
   "cell_type": "code",
   "execution_count": null,
   "id": "6a490dff",
   "metadata": {},
   "outputs": [],
   "source": []
  }
 ],
 "metadata": {
  "kernelspec": {
   "display_name": "Python 3 (ipykernel)",
   "language": "python",
   "name": "python3"
  },
  "language_info": {
   "codemirror_mode": {
    "name": "ipython",
    "version": 3
   },
   "file_extension": ".py",
   "mimetype": "text/x-python",
   "name": "python",
   "nbconvert_exporter": "python",
   "pygments_lexer": "ipython3",
   "version": "3.10.9"
  }
 },
 "nbformat": 4,
 "nbformat_minor": 5
}
