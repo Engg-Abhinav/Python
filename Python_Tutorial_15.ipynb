{
 "cells": [
  {
   "cell_type": "markdown",
   "id": "565f4215",
   "metadata": {},
   "source": [
    "# OOPS Tutorial in Python"
   ]
  },
  {
   "cell_type": "code",
   "execution_count": 1,
   "id": "c47ce16e",
   "metadata": {},
   "outputs": [],
   "source": [
    "class Car:\n",
    "    pass"
   ]
  },
  {
   "cell_type": "code",
   "execution_count": 2,
   "id": "7ac22636",
   "metadata": {},
   "outputs": [],
   "source": [
    "car1 = Car()\n",
    "\n",
    "# Car() -> Constructor"
   ]
  },
  {
   "cell_type": "code",
   "execution_count": 3,
   "id": "9634f0cf",
   "metadata": {},
   "outputs": [
    {
     "data": {
      "text/plain": [
       "<__main__.Car at 0x164385b6920>"
      ]
     },
     "execution_count": 3,
     "metadata": {},
     "output_type": "execute_result"
    }
   ],
   "source": [
    "car1"
   ]
  },
  {
   "cell_type": "code",
   "execution_count": 4,
   "id": "9f702745",
   "metadata": {},
   "outputs": [],
   "source": [
    "car1.windows=5\n",
    "car1.doors=4"
   ]
  },
  {
   "cell_type": "code",
   "execution_count": 5,
   "id": "a958a3da",
   "metadata": {},
   "outputs": [
    {
     "name": "stdout",
     "output_type": "stream",
     "text": [
      "5\n"
     ]
    }
   ],
   "source": [
    "print(car1.windows)"
   ]
  },
  {
   "cell_type": "code",
   "execution_count": 6,
   "id": "65f37778",
   "metadata": {},
   "outputs": [],
   "source": [
    "car2 = Car()\n",
    "\n",
    "# Different instance than car1"
   ]
  },
  {
   "cell_type": "code",
   "execution_count": 7,
   "id": "6a5c6c99",
   "metadata": {},
   "outputs": [],
   "source": [
    "car2.windows = 3\n",
    "car2.doors = 2"
   ]
  },
  {
   "cell_type": "code",
   "execution_count": 8,
   "id": "ea59fb7f",
   "metadata": {},
   "outputs": [
    {
     "name": "stdout",
     "output_type": "stream",
     "text": [
      "3\n"
     ]
    }
   ],
   "source": [
    "print(car2.windows)"
   ]
  },
  {
   "cell_type": "code",
   "execution_count": 9,
   "id": "6a490dff",
   "metadata": {},
   "outputs": [],
   "source": [
    "car2.engine_type=\"petrol\""
   ]
  },
  {
   "cell_type": "code",
   "execution_count": 10,
   "id": "5d083edd",
   "metadata": {},
   "outputs": [
    {
     "name": "stdout",
     "output_type": "stream",
     "text": [
      "petrol\n"
     ]
    }
   ],
   "source": [
    "print(car2.engine_type)"
   ]
  },
  {
   "cell_type": "code",
   "execution_count": 11,
   "id": "4e22ba18",
   "metadata": {},
   "outputs": [
    {
     "data": {
      "text/plain": [
       "['__class__',\n",
       " '__delattr__',\n",
       " '__dict__',\n",
       " '__dir__',\n",
       " '__doc__',\n",
       " '__eq__',\n",
       " '__format__',\n",
       " '__ge__',\n",
       " '__getattribute__',\n",
       " '__gt__',\n",
       " '__hash__',\n",
       " '__init__',\n",
       " '__init_subclass__',\n",
       " '__le__',\n",
       " '__lt__',\n",
       " '__module__',\n",
       " '__ne__',\n",
       " '__new__',\n",
       " '__reduce__',\n",
       " '__reduce_ex__',\n",
       " '__repr__',\n",
       " '__setattr__',\n",
       " '__sizeof__',\n",
       " '__str__',\n",
       " '__subclasshook__',\n",
       " '__weakref__',\n",
       " 'doors',\n",
       " 'windows']"
      ]
     },
     "execution_count": 11,
     "metadata": {},
     "output_type": "execute_result"
    }
   ],
   "source": [
    "dir(car1)"
   ]
  },
  {
   "cell_type": "code",
   "execution_count": 12,
   "id": "538cee33",
   "metadata": {},
   "outputs": [],
   "source": [
    "class Cars:\n",
    "    def __init__(self, window, door, engine_type):\n",
    "        self.windows=window\n",
    "        self.doors=door\n",
    "        self.enginetype=engine_type\n",
    "    def self_driving(self):\n",
    "        return \"This is a {} car\".format(self.enginetype)"
   ]
  },
  {
   "cell_type": "code",
   "execution_count": 13,
   "id": "a4c10fb9",
   "metadata": {},
   "outputs": [],
   "source": [
    "car3 = Cars(4,5,\"petrol\")"
   ]
  },
  {
   "cell_type": "code",
   "execution_count": 14,
   "id": "04a8e0f7",
   "metadata": {},
   "outputs": [],
   "source": [
    "car4 = Cars(3,4,\"disel\")"
   ]
  },
  {
   "cell_type": "code",
   "execution_count": 15,
   "id": "9d6ce97e",
   "metadata": {},
   "outputs": [
    {
     "name": "stdout",
     "output_type": "stream",
     "text": [
      "4\n"
     ]
    }
   ],
   "source": [
    "print(car3.windows)"
   ]
  },
  {
   "cell_type": "code",
   "execution_count": 16,
   "id": "969ce7b9",
   "metadata": {},
   "outputs": [
    {
     "name": "stdout",
     "output_type": "stream",
     "text": [
      "disel\n"
     ]
    }
   ],
   "source": [
    "print(car4.enginetype)"
   ]
  },
  {
   "cell_type": "code",
   "execution_count": 17,
   "id": "b7433fac",
   "metadata": {},
   "outputs": [
    {
     "data": {
      "text/plain": [
       "'This is a petrol car'"
      ]
     },
     "execution_count": 17,
     "metadata": {},
     "output_type": "execute_result"
    }
   ],
   "source": [
    "car3.self_driving()"
   ]
  }
 ],
 "metadata": {
  "kernelspec": {
   "display_name": "Python 3 (ipykernel)",
   "language": "python",
   "name": "python3"
  },
  "language_info": {
   "codemirror_mode": {
    "name": "ipython",
    "version": 3
   },
   "file_extension": ".py",
   "mimetype": "text/x-python",
   "name": "python",
   "nbconvert_exporter": "python",
   "pygments_lexer": "ipython3",
   "version": "3.10.9"
  }
 },
 "nbformat": 4,
 "nbformat_minor": 5
}
