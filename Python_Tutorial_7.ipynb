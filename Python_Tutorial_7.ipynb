{
 "cells": [
  {
   "cell_type": "markdown",
   "id": "ae67fa4d",
   "metadata": {},
   "source": [
    "# Functions in Python\n",
    "\n",
    "- Why Functions\n",
    "- Function Defination\n",
    "- Positional and Keyword Arguments in Functions"
   ]
  },
  {
   "cell_type": "code",
   "execution_count": 1,
   "id": "a17eb5bf",
   "metadata": {},
   "outputs": [
    {
     "name": "stdout",
     "output_type": "stream",
     "text": [
      "The number is even\n"
     ]
    }
   ],
   "source": [
    "num = 24\n",
    "if num%2==0:\n",
    "    print(\"The number is even\")\n",
    "else:\n",
    "    print(\"The number is odd\")"
   ]
  },
  {
   "cell_type": "code",
   "execution_count": 2,
   "id": "453c2943",
   "metadata": {},
   "outputs": [],
   "source": [
    "def odd_even(num):\n",
    "    if num%2==0:\n",
    "        print(\"The number is even\")\n",
    "    else:\n",
    "        print(\"The number is odd\")"
   ]
  },
  {
   "cell_type": "code",
   "execution_count": 3,
   "id": "a7655cd0",
   "metadata": {},
   "outputs": [
    {
     "name": "stdout",
     "output_type": "stream",
     "text": [
      "The number is even\n"
     ]
    }
   ],
   "source": [
    "odd_even(24)"
   ]
  },
  {
   "cell_type": "code",
   "execution_count": 4,
   "id": "edf5b293",
   "metadata": {},
   "outputs": [],
   "source": [
    "# Print vs Return\n",
    "def hello_world():\n",
    "    print(\"Hello World!\")"
   ]
  },
  {
   "cell_type": "code",
   "execution_count": 5,
   "id": "296060b2",
   "metadata": {},
   "outputs": [
    {
     "name": "stdout",
     "output_type": "stream",
     "text": [
      "Hello World!\n"
     ]
    }
   ],
   "source": [
    "hello_world()"
   ]
  },
  {
   "cell_type": "code",
   "execution_count": 6,
   "id": "a3f2ccb2",
   "metadata": {},
   "outputs": [
    {
     "name": "stdout",
     "output_type": "stream",
     "text": [
      "Hello World!\n"
     ]
    }
   ],
   "source": [
    "var1 = hello_world()"
   ]
  },
  {
   "cell_type": "code",
   "execution_count": 7,
   "id": "a48101bb",
   "metadata": {},
   "outputs": [
    {
     "name": "stdout",
     "output_type": "stream",
     "text": [
      "None\n"
     ]
    }
   ],
   "source": [
    "print(var1)"
   ]
  },
  {
   "cell_type": "code",
   "execution_count": 8,
   "id": "87dd5b4e",
   "metadata": {},
   "outputs": [],
   "source": [
    "def hello_World():\n",
    "    return \"Hello World!!\""
   ]
  },
  {
   "cell_type": "code",
   "execution_count": 9,
   "id": "bfb4ce84",
   "metadata": {},
   "outputs": [],
   "source": [
    "var2 = hello_World()"
   ]
  },
  {
   "cell_type": "code",
   "execution_count": 10,
   "id": "aaaf2e25",
   "metadata": {},
   "outputs": [
    {
     "name": "stdout",
     "output_type": "stream",
     "text": [
      "Hello World!!\n"
     ]
    }
   ],
   "source": [
    "print(var2)"
   ]
  },
  {
   "cell_type": "code",
   "execution_count": 11,
   "id": "d47a0a4e",
   "metadata": {},
   "outputs": [],
   "source": [
    "def add_number(num1, num2):\n",
    "    return num1 + num2"
   ]
  },
  {
   "cell_type": "code",
   "execution_count": 12,
   "id": "b1c59e66",
   "metadata": {},
   "outputs": [],
   "source": [
    "val3 = add_number(34, 66)"
   ]
  },
  {
   "cell_type": "code",
   "execution_count": 13,
   "id": "b1f67d73",
   "metadata": {},
   "outputs": [
    {
     "data": {
      "text/plain": [
       "100"
      ]
     },
     "execution_count": 13,
     "metadata": {},
     "output_type": "execute_result"
    }
   ],
   "source": [
    "val3"
   ]
  },
  {
   "cell_type": "code",
   "execution_count": 14,
   "id": "dbdf0ef6",
   "metadata": {},
   "outputs": [],
   "source": [
    "# name -> Positional Argument\n",
    "# age -> Keyword Argument (As we have given a default value)\n",
    "def hello(name, age=20):\n",
    "    print(\"My name is {} and age is {}\".format(name, age))"
   ]
  },
  {
   "cell_type": "code",
   "execution_count": 15,
   "id": "a353bb93",
   "metadata": {},
   "outputs": [
    {
     "name": "stdout",
     "output_type": "stream",
     "text": [
      "My name is Abhinav and age is 20\n"
     ]
    }
   ],
   "source": [
    "hello(\"Abhinav\")"
   ]
  },
  {
   "cell_type": "code",
   "execution_count": 16,
   "id": "3003a7de",
   "metadata": {},
   "outputs": [],
   "source": [
    "def hello(*args, **kwargs):\n",
    "    print(args)\n",
    "    print(kwargs)"
   ]
  },
  {
   "cell_type": "code",
   "execution_count": 17,
   "id": "26b7836c",
   "metadata": {},
   "outputs": [
    {
     "name": "stdout",
     "output_type": "stream",
     "text": [
      "('Abhinav', 'Agrawal')\n",
      "{'age': 20, 'dob': 2002}\n"
     ]
    }
   ],
   "source": [
    "hello(\"Abhinav\", \"Agrawal\", age=20, dob=2002)"
   ]
  },
  {
   "cell_type": "code",
   "execution_count": 18,
   "id": "3c27d4da",
   "metadata": {},
   "outputs": [],
   "source": [
    "lst=[1,2,3,4,5,6,7]"
   ]
  },
  {
   "cell_type": "code",
   "execution_count": 19,
   "id": "20f7f885",
   "metadata": {},
   "outputs": [],
   "source": [
    "def evenoddsum(lst):\n",
    "    even_sum = 0\n",
    "    odd_sum = 0\n",
    "    for i in lst:\n",
    "        if i%2==0:\n",
    "            even_sum = even_sum + i\n",
    "        else:\n",
    "            odd_sum = odd_sum + i\n",
    "    return even_sum, odd_sum"
   ]
  },
  {
   "cell_type": "code",
   "execution_count": 20,
   "id": "bd392a99",
   "metadata": {},
   "outputs": [
    {
     "data": {
      "text/plain": [
       "(12, 16)"
      ]
     },
     "execution_count": 20,
     "metadata": {},
     "output_type": "execute_result"
    }
   ],
   "source": [
    "evenoddsum(lst)"
   ]
  }
 ],
 "metadata": {
  "kernelspec": {
   "display_name": "Python 3 (ipykernel)",
   "language": "python",
   "name": "python3"
  },
  "language_info": {
   "codemirror_mode": {
    "name": "ipython",
    "version": 3
   },
   "file_extension": ".py",
   "mimetype": "text/x-python",
   "name": "python",
   "nbconvert_exporter": "python",
   "pygments_lexer": "ipython3",
   "version": "3.10.9"
  }
 },
 "nbformat": 4,
 "nbformat_minor": 5
}
