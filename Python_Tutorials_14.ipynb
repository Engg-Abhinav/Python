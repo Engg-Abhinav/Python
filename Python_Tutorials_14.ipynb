{
 "cells": [
  {
   "cell_type": "markdown",
   "id": "21ac9d49",
   "metadata": {},
   "source": [
    "# Pyforest - lazy - import of all Python Data Science Libraries\n",
    "\n",
    "Pyforest lazy - imports all popular Python Data Science liberaries so that they are always there are always there when you need them. If you don't use a library, it won't be imported. When you are done with your script, you can export the python code for the import statements"
   ]
  },
  {
   "cell_type": "code",
   "execution_count": null,
   "id": "0d585f4f",
   "metadata": {},
   "outputs": [],
   "source": []
  }
 ],
 "metadata": {
  "kernelspec": {
   "display_name": "Python 3 (ipykernel)",
   "language": "python",
   "name": "python3"
  },
  "language_info": {
   "codemirror_mode": {
    "name": "ipython",
    "version": 3
   },
   "file_extension": ".py",
   "mimetype": "text/x-python",
   "name": "python",
   "nbconvert_exporter": "python",
   "pygments_lexer": "ipython3",
   "version": "3.10.9"
  }
 },
 "nbformat": 4,
 "nbformat_minor": 5
}
