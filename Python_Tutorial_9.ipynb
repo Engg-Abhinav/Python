{
 "cells": [
  {
   "cell_type": "markdown",
   "id": "7cb5b799",
   "metadata": {},
   "source": [
    "# Map Function in Python"
   ]
  },
  {
   "cell_type": "code",
   "execution_count": 1,
   "id": "5a52cd16",
   "metadata": {},
   "outputs": [],
   "source": [
    "def even_odd(num):\n",
    "    if num%2==0:\n",
    "        return \"The {} is Even\".format(num)\n",
    "    else:\n",
    "        return \"The {} is Odd\".format(num)"
   ]
  },
  {
   "cell_type": "code",
   "execution_count": 2,
   "id": "ca4de266",
   "metadata": {},
   "outputs": [
    {
     "data": {
      "text/plain": [
       "'The 24 is Even'"
      ]
     },
     "execution_count": 2,
     "metadata": {},
     "output_type": "execute_result"
    }
   ],
   "source": [
    "even_odd(24)"
   ]
  },
  {
   "cell_type": "code",
   "execution_count": 3,
   "id": "cc492217",
   "metadata": {},
   "outputs": [],
   "source": [
    "lst = [1,2,3,4,5,6,7,8,9,24,56,78]"
   ]
  },
  {
   "cell_type": "code",
   "execution_count": 4,
   "id": "bacc7cc9",
   "metadata": {},
   "outputs": [
    {
     "data": {
      "text/plain": [
       "['The 1 is Odd',\n",
       " 'The 2 is Even',\n",
       " 'The 3 is Odd',\n",
       " 'The 4 is Even',\n",
       " 'The 5 is Odd',\n",
       " 'The 6 is Even',\n",
       " 'The 7 is Odd',\n",
       " 'The 8 is Even',\n",
       " 'The 9 is Odd',\n",
       " 'The 24 is Even',\n",
       " 'The 56 is Even',\n",
       " 'The 78 is Even']"
      ]
     },
     "execution_count": 4,
     "metadata": {},
     "output_type": "execute_result"
    }
   ],
   "source": [
    "list(map(even_odd, lst))"
   ]
  }
 ],
 "metadata": {
  "kernelspec": {
   "display_name": "Python 3 (ipykernel)",
   "language": "python",
   "name": "python3"
  },
  "language_info": {
   "codemirror_mode": {
    "name": "ipython",
    "version": 3
   },
   "file_extension": ".py",
   "mimetype": "text/x-python",
   "name": "python",
   "nbconvert_exporter": "python",
   "pygments_lexer": "ipython3",
   "version": "3.10.9"
  }
 },
 "nbformat": 4,
 "nbformat_minor": 5
}
