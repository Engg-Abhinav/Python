{
 "cells": [
  {
   "cell_type": "markdown",
   "id": "097e6b36-2933-4a75-923f-315880b62cb7",
   "metadata": {},
   "source": [
    "# Python Exception Handling"
   ]
  },
  {
   "cell_type": "code",
   "execution_count": 1,
   "id": "b066d405-61ad-441b-9d58-7b6adf8656c3",
   "metadata": {},
   "outputs": [
    {
     "name": "stdout",
     "output_type": "stream",
     "text": [
      "The user have not defined the variable\n"
     ]
    }
   ],
   "source": [
    "try:\n",
    "    ## Code Block where Exception can occur\n",
    "    a=b\n",
    "except NameError as ex1:\n",
    "    print(\"The user have not defined the variable\")\n",
    "except Exception as ex2: # Generic Exception Class\n",
    "    # print(\"Some problem may have occured\")\n",
    "    print(ex2)"
   ]
  },
  {
   "cell_type": "code",
   "execution_count": 2,
   "id": "cda4c2cd-69be-4a6d-959a-0ca93935bfcb",
   "metadata": {},
   "outputs": [
    {
     "name": "stdout",
     "output_type": "stream",
     "text": [
      "Try to make the datatype similar\n"
     ]
    }
   ],
   "source": [
    "try:\n",
    "    ## Code Block where Exception can occur\n",
    "    # a=b\n",
    "    a=1\n",
    "    b='s'\n",
    "    c=a+b\n",
    "except NameError as ex1:\n",
    "    print(\"The user have not defined the variable\")\n",
    "except TypeError as ex2:\n",
    "    print(\"Try to make the datatype similar\")\n",
    "except Exception as ex3:\n",
    "    # print(\"Some problem may have occured\")\n",
    "    print(ex3)"
   ]
  },
  {
   "cell_type": "code",
   "execution_count": 3,
   "id": "29ddaa0b-dbf8-4d3e-bef6-e7aece03c033",
   "metadata": {},
   "outputs": [
    {
     "name": "stdin",
     "output_type": "stream",
     "text": [
      "Enter the number 1:  12\n",
      "Enter the number 2:  0\n"
     ]
    },
    {
     "name": "stdout",
     "output_type": "stream",
     "text": [
      "Please provide number greater than zero\n"
     ]
    }
   ],
   "source": [
    "try:\n",
    "    ## Code Block where Exception can occur\n",
    "    # a=b\n",
    "    a=int(input(\"Enter the number 1: \"))\n",
    "    b=int(input(\"Enter the number 2: \"))\n",
    "    c=a/b ## b=0 - division by zero\n",
    "    d=a*b \n",
    "    e=a+b\n",
    "    print(c)\n",
    "    print(d)\n",
    "    print(e)\n",
    "except NameError as ex1:\n",
    "    print(\"The user have not defined the variable\")\n",
    "except ZeroDivisionError as ex2:\n",
    "    print(\"Please provide number greater than zero\")\n",
    "except TypeError as ex3:\n",
    "    print(\"Try to make the datatype similar\")\n",
    "except Exception as ex4:\n",
    "    # print(\"Some problem may have occured\")\n",
    "    print(ex4)"
   ]
  },
  {
   "cell_type": "code",
   "execution_count": 4,
   "id": "4a48a7f1-b312-4104-b35f-fad88186cdf3",
   "metadata": {},
   "outputs": [
    {
     "name": "stdin",
     "output_type": "stream",
     "text": [
      "Enter the number 1:  12\n",
      "Enter the number 2:  4\n"
     ]
    },
    {
     "name": "stdout",
     "output_type": "stream",
     "text": [
      "3.0\n",
      "48\n",
      "16\n"
     ]
    }
   ],
   "source": [
    "try:\n",
    "    ## Code Block where Exception can occur\n",
    "    # a=b\n",
    "    a=int(input(\"Enter the number 1: \"))\n",
    "    b=int(input(\"Enter the number 2: \"))\n",
    "    c=a/b ## b=0 - division by zero\n",
    "    d=a*b \n",
    "    e=a+b\n",
    "except NameError as ex1:\n",
    "    print(\"The user have not defined the variable\")\n",
    "except ZeroDivisionError as ex2:\n",
    "    print(\"Please provide number greater than zero\")\n",
    "except TypeError as ex3:\n",
    "    print(\"Try to make the datatype similar\")\n",
    "except Exception as ex4:\n",
    "    # print(\"Some problem may have occured\")\n",
    "    print(ex4)\n",
    "else:\n",
    "    print(c)\n",
    "    print(d)\n",
    "    print(e)"
   ]
  },
  {
   "cell_type": "code",
   "execution_count": 5,
   "id": "9a7aeb04-2fbb-433a-add4-613eaa72ee0a",
   "metadata": {},
   "outputs": [
    {
     "name": "stdin",
     "output_type": "stream",
     "text": [
      "Enter the number 1:  12\n",
      "Enter the number 2:  0\n"
     ]
    },
    {
     "name": "stdout",
     "output_type": "stream",
     "text": [
      "Please provide number greater than zero\n",
      "The execution is done\n"
     ]
    }
   ],
   "source": [
    "try:\n",
    "    ## Code Block where Exception can occur\n",
    "    # a=b\n",
    "    a=int(input(\"Enter the number 1: \"))\n",
    "    b=int(input(\"Enter the number 2: \"))\n",
    "    c=a/b ## b=0 - division by zero\n",
    "except NameError as ex1:\n",
    "    print(\"The user have not defined the variable\")\n",
    "except ZeroDivisionError as ex2:\n",
    "    print(\"Please provide number greater than zero\")\n",
    "except TypeError as ex3:\n",
    "    print(\"Try to make the datatype similar\")\n",
    "except Exception as ex4:\n",
    "    # print(\"Some problem may have occured\")\n",
    "    print(ex4)\n",
    "else:\n",
    "    print(c)\n",
    "finally:\n",
    "    print(\"The execution is done\")"
   ]
  }
 ],
 "metadata": {
  "kernelspec": {
   "display_name": "Python 3 (ipykernel)",
   "language": "python",
   "name": "python3"
  },
  "language_info": {
   "codemirror_mode": {
    "name": "ipython",
    "version": 3
   },
   "file_extension": ".py",
   "mimetype": "text/x-python",
   "name": "python",
   "nbconvert_exporter": "python",
   "pygments_lexer": "ipython3",
   "version": "3.10.9"
  }
 },
 "nbformat": 4,
 "nbformat_minor": 5
}
