{
 "cells": [
  {
   "cell_type": "markdown",
   "id": "2218ccd5",
   "metadata": {},
   "source": [
    "# MatplotLib Tutorial\n",
    "\n",
    "Matplotlib is a plotting library for the Python programming language and its numerical mathematics extension NumPy. It provides an object-oriented API for embedding plots into applications using general-purpose GUI toolkits like Tkinter, wxPython, Qt, or GTK+.\n",
    "\n",
    "Some of the major Pros of Matplotlib are:\n",
    "\n",
    "- Generally easy to get started for simple plots\n",
    "- Support for custom labels and texts\n",
    "- Great control of every element in a figure\n",
    "- High-quality output in many formats\n",
    "- Very customizable in general"
   ]
  },
  {
   "cell_type": "code",
   "execution_count": 1,
   "id": "b5fe51e1",
   "metadata": {},
   "outputs": [],
   "source": [
    "import matplotlib.pyplot as plt\n",
    "%matplotlib inline\n",
    "# This line is important in Jupyter Notebook as whenever we want to display any \n",
    "# matplotlib graphs or daigram we have to write plt.show but when we use \n",
    "# %matplotlib inline we don't need to write plt.show"
   ]
  },
  {
   "cell_type": "code",
   "execution_count": 2,
   "id": "abc873e8",
   "metadata": {},
   "outputs": [],
   "source": [
    "import numpy as np"
   ]
  },
  {
   "cell_type": "code",
   "execution_count": 3,
   "id": "4f6b8ca7",
   "metadata": {},
   "outputs": [],
   "source": [
    "# Simple Example\n",
    "\n",
    "x=np.arange(0,10)\n",
    "y=np.arange(11,21)"
   ]
  },
  {
   "cell_type": "code",
   "execution_count": 4,
   "id": "61e04a40",
   "metadata": {},
   "outputs": [],
   "source": [
    "a=np.arange(40,50)\n",
    "b=np.arange(50,60)"
   ]
  },
  {
   "cell_type": "code",
   "execution_count": 8,
   "id": "c5077453",
   "metadata": {},
   "outputs": [
    {
     "data": {
      "image/png": "[encoded data removed]",
      "text/plain": [
       "<Figure size 640x480 with 1 Axes>"
      ]
     },
     "metadata": {},
     "output_type": "display_data"
    }
   ],
   "source": [
    "# Plotting using Matplotlib\n",
    "\n",
    "# plt scatter\n",
    "\n",
    "plt.scatter(x,y,c='b')\n",
    "plt.xlabel('X-axis')\n",
    "plt.ylabel('Y-axis')\n",
    "plt.title('Graph in 2D')\n",
    "\n",
    "# To save figure we can use\n",
    "plt.savefig('Test.png')\n"
   ]
  },
  {
   "cell_type": "code",
   "execution_count": null,
   "id": "2f77ba8b",
   "metadata": {},
   "outputs": [],
   "source": [
    "plt plot - In this we will get lines"
   ]
  }
 ],
 "metadata": {
  "kernelspec": {
   "display_name": "Python 3 (ipykernel)",
   "language": "python",
   "name": "python3"
  },
  "language_info": {
   "codemirror_mode": {
    "name": "ipython",
    "version": 3
   },
   "file_extension": ".py",
   "mimetype": "text/x-python",
   "name": "python",
   "nbconvert_exporter": "python",
   "pygments_lexer": "ipython3",
   "version": "3.10.9"
  }
 },
 "nbformat": 4,
 "nbformat_minor": 5
}
