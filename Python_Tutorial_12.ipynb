{
 "cells": [
  {
   "cell_type": "markdown",
   "id": "8119ec9e",
   "metadata": {},
   "source": [
    "# String Formatting in Python"
   ]
  },
  {
   "cell_type": "code",
   "execution_count": 1,
   "id": "aac92099",
   "metadata": {},
   "outputs": [
    {
     "name": "stdout",
     "output_type": "stream",
     "text": [
      "Hello Everyone\n"
     ]
    }
   ],
   "source": [
    "print(\"Hello Everyone\")"
   ]
  },
  {
   "cell_type": "code",
   "execution_count": 2,
   "id": "70b67747",
   "metadata": {},
   "outputs": [],
   "source": [
    "def greeting(name):\n",
    "    return \"Hello {}. Welcome to the community\".format(name)"
   ]
  },
  {
   "cell_type": "code",
   "execution_count": 3,
   "id": "0d1a867f",
   "metadata": {},
   "outputs": [
    {
     "data": {
      "text/plain": [
       "'Hello Abhinav. Welcome to the community'"
      ]
     },
     "execution_count": 3,
     "metadata": {},
     "output_type": "execute_result"
    }
   ],
   "source": [
    "greeting(\"Abhinav\")"
   ]
  },
  {
   "cell_type": "code",
   "execution_count": 4,
   "id": "dddaf14f",
   "metadata": {},
   "outputs": [],
   "source": [
    "def welcome_email(firstname, lastname):\n",
    "    return \"Welcome {name1}. Your age is {age1}\".format(name1=firstname,age1=lastname)"
   ]
  },
  {
   "cell_type": "code",
   "execution_count": 5,
   "id": "1e40a9b7",
   "metadata": {},
   "outputs": [
    {
     "data": {
      "text/plain": [
       "'Welcome Abhinav. Your age is 20'"
      ]
     },
     "execution_count": 5,
     "metadata": {},
     "output_type": "execute_result"
    }
   ],
   "source": [
    "welcome_email(\"Abhinav\",20)"
   ]
  }
 ],
 "metadata": {
  "kernelspec": {
   "display_name": "Python 3 (ipykernel)",
   "language": "python",
   "name": "python3"
  },
  "language_info": {
   "codemirror_mode": {
    "name": "ipython",
    "version": 3
   },
   "file_extension": ".py",
   "mimetype": "text/x-python",
   "name": "python",
   "nbconvert_exporter": "python",
   "pygments_lexer": "ipython3",
   "version": "3.10.9"
  }
 },
 "nbformat": 4,
 "nbformat_minor": 5
}
